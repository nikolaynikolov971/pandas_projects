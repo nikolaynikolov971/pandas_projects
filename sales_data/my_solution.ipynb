{
 "cells": [
  {
   "cell_type": "code",
   "execution_count": 68,
   "metadata": {
    "collapsed": true,
    "pycharm": {
     "name": "#%%\n"
    }
   },
   "outputs": [],
   "source": [
    "import pandas as pd\n",
    "import os\n",
    "import matplotlib.pyplot as plt\n"
   ]
  },
  {
   "cell_type": "code",
   "execution_count": 69,
   "metadata": {
    "pycharm": {
     "name": "#%%\n"
    }
   },
   "outputs": [],
   "source": [
    "### Merge all csv files.\n",
    "\n",
    "#create list with files you want to merge.\n",
    "df = pd.read_csv(\"SalesAnalysis/Sales_Data/Sales_April_2019.csv\")\n",
    "files = [files for files in os.listdir('SalesAnalysis/Sales_Data')]\n",
    "\n",
    "#create empty df\n",
    "all_months_data = pd.DataFrame()\n",
    "\n",
    "#interate files and add them to the df\n",
    "for file in files:\n",
    "    df = pd.read_csv(\"SalesAnalysis/Sales_Data/\" + file)\n",
    "    all_months_data = pd.concat([all_months_data, df])\n",
    "\n",
    "all_months_data.to_csv(\"all_data.csv\", index=False)\n"
   ]
  },
  {
   "cell_type": "code",
   "execution_count": 70,
   "outputs": [],
   "source": [
    "# Read and update dataframe\n",
    "#Cleen up the data!\n",
    "    #- Drop rows of NAN\n",
    "    #- Get rid of text in order date column\n",
    "    #- Make columns correct type\n",
    "all_data = pd.read_csv('all_data.csv')\n",
    "nan_df = all_data[all_data.isna().any(axis=1)]\n",
    "nan_df.head()\n",
    "\n",
    "all_data = all_data.dropna(how=\"all\")\n",
    "\n",
    "all_data['Quantity Ordered'] = pd.to_numeric(all_data['Quantity Ordered'],errors='coerce')\n",
    "nan_df = all_data[all_data.isna().any(axis=1)]\n",
    "nan_df.head()\n",
    "all_data = all_data.dropna(how=\"all\")\n",
    "nan_df = all_data[all_data.isna().any(axis=1)]\n",
    "nan_df.head()\n",
    "all_data = all_data.dropna(how=\"any\")\n",
    "nan_df = all_data[all_data.isna().any(axis=1)]\n",
    "nan_df.head()\n",
    "\n",
    "all_data['Quantity Ordered'] = pd.to_numeric(all_data['Quantity Ordered'])\n",
    "all_data['Price Each'] = pd.to_numeric(all_data['Price Each'])\n",
    "\n",
    "all_data['Month'] = all_data['Order Date'].str[0:2]\n",
    "all_data['Month'] = all_data['Month'].astype('int32')\n",
    "all_data.head()\n",
    "\n",
    "all_data['Month 2'] = pd.to_datetime(all_data['Order Date']).dt.month\n",
    "\n",
    "\n"
   ],
   "metadata": {
    "collapsed": false,
    "pycharm": {
     "name": "#%%\n"
    }
   }
  },
  {
   "cell_type": "code",
   "execution_count": 71,
   "outputs": [
    {
     "data": {
      "text/plain": "  Order ID                     Product  Quantity Ordered  Price Each  \\\n0   176558        USB-C Charging Cable               2.0       11.95   \n1   176559  Bose SoundSport Headphones               1.0       99.99   \n2   176560                Google Phone               1.0      600.00   \n3   176560            Wired Headphones               1.0       11.99   \n4   176561            Wired Headphones               1.0       11.99   \n\n       Order Date                      Purchase Address  Month  Month 2  \\\n0  04/19/19 08:46          917 1st St, Dallas, TX 75001      4        4   \n1  04/07/19 22:30     682 Chestnut St, Boston, MA 02215      4        4   \n2  04/12/19 14:38  669 Spruce St, Los Angeles, CA 90001      4        4   \n3  04/12/19 14:38  669 Spruce St, Los Angeles, CA 90001      4        4   \n4  04/30/19 09:27     333 8th St, Los Angeles, CA 90001      4        4   \n\n                City  \n0       Dallas  (TX)  \n1       Boston  (MA)  \n2  Los Angeles  (CA)  \n3  Los Angeles  (CA)  \n4  Los Angeles  (CA)  ",
      "text/html": "<div>\n<style scoped>\n    .dataframe tbody tr th:only-of-type {\n        vertical-align: middle;\n    }\n\n    .dataframe tbody tr th {\n        vertical-align: top;\n    }\n\n    .dataframe thead th {\n        text-align: right;\n    }\n</style>\n<table border=\"1\" class=\"dataframe\">\n  <thead>\n    <tr style=\"text-align: right;\">\n      <th></th>\n      <th>Order ID</th>\n      <th>Product</th>\n      <th>Quantity Ordered</th>\n      <th>Price Each</th>\n      <th>Order Date</th>\n      <th>Purchase Address</th>\n      <th>Month</th>\n      <th>Month 2</th>\n      <th>City</th>\n    </tr>\n  </thead>\n  <tbody>\n    <tr>\n      <th>0</th>\n      <td>176558</td>\n      <td>USB-C Charging Cable</td>\n      <td>2.0</td>\n      <td>11.95</td>\n      <td>04/19/19 08:46</td>\n      <td>917 1st St, Dallas, TX 75001</td>\n      <td>4</td>\n      <td>4</td>\n      <td>Dallas  (TX)</td>\n    </tr>\n    <tr>\n      <th>1</th>\n      <td>176559</td>\n      <td>Bose SoundSport Headphones</td>\n      <td>1.0</td>\n      <td>99.99</td>\n      <td>04/07/19 22:30</td>\n      <td>682 Chestnut St, Boston, MA 02215</td>\n      <td>4</td>\n      <td>4</td>\n      <td>Boston  (MA)</td>\n    </tr>\n    <tr>\n      <th>2</th>\n      <td>176560</td>\n      <td>Google Phone</td>\n      <td>1.0</td>\n      <td>600.00</td>\n      <td>04/12/19 14:38</td>\n      <td>669 Spruce St, Los Angeles, CA 90001</td>\n      <td>4</td>\n      <td>4</td>\n      <td>Los Angeles  (CA)</td>\n    </tr>\n    <tr>\n      <th>3</th>\n      <td>176560</td>\n      <td>Wired Headphones</td>\n      <td>1.0</td>\n      <td>11.99</td>\n      <td>04/12/19 14:38</td>\n      <td>669 Spruce St, Los Angeles, CA 90001</td>\n      <td>4</td>\n      <td>4</td>\n      <td>Los Angeles  (CA)</td>\n    </tr>\n    <tr>\n      <th>4</th>\n      <td>176561</td>\n      <td>Wired Headphones</td>\n      <td>1.0</td>\n      <td>11.99</td>\n      <td>04/30/19 09:27</td>\n      <td>333 8th St, Los Angeles, CA 90001</td>\n      <td>4</td>\n      <td>4</td>\n      <td>Los Angeles  (CA)</td>\n    </tr>\n  </tbody>\n</table>\n</div>"
     },
     "execution_count": 71,
     "metadata": {},
     "output_type": "execute_result"
    }
   ],
   "source": [
    "# Add city column\n",
    "def get_city(address):\n",
    "    return address.split(\",\")[1].strip(\" \")\n",
    "\n",
    "def get_state(address):\n",
    "    return address.split(\",\")[2].split(\" \")[1]\n",
    "\n",
    "all_data['City'] = all_data['Purchase Address'].apply(lambda x: f\"{get_city(x)}  ({get_state(x)})\")\n",
    "all_data.head()"
   ],
   "metadata": {
    "collapsed": false,
    "pycharm": {
     "name": "#%%\n"
    }
   }
  },
  {
   "cell_type": "code",
   "execution_count": 73,
   "outputs": [
    {
     "data": {
      "text/plain": "       Quantity Ordered  Price Each  Month 2       Sales\nMonth                                                   \n1               10903.0  1811768.38     9709  1822256.73\n2               13449.0  2188884.72    23950  2202022.42\n3               17005.0  2791207.83    45459  2807100.38\n4               20558.0  3367671.02    73116  3390670.24\n5               18667.0  3135125.13    82830  3152606.75\n6               15253.0  2562025.61    81324  2577802.26\n7               16072.0  2632539.56   100051  2647775.76\n8               13448.0  2230345.42    95688  2244467.88\n9               13109.0  2084992.09   104589  2097560.13\n10              22703.0  3715554.83   202820  3736726.88\n11              19798.0  3180600.68   193303  3199603.20\n12              28114.0  4588415.41   299808  4613443.34",
      "text/html": "<div>\n<style scoped>\n    .dataframe tbody tr th:only-of-type {\n        vertical-align: middle;\n    }\n\n    .dataframe tbody tr th {\n        vertical-align: top;\n    }\n\n    .dataframe thead th {\n        text-align: right;\n    }\n</style>\n<table border=\"1\" class=\"dataframe\">\n  <thead>\n    <tr style=\"text-align: right;\">\n      <th></th>\n      <th>Quantity Ordered</th>\n      <th>Price Each</th>\n      <th>Month 2</th>\n      <th>Sales</th>\n    </tr>\n    <tr>\n      <th>Month</th>\n      <th></th>\n      <th></th>\n      <th></th>\n      <th></th>\n    </tr>\n  </thead>\n  <tbody>\n    <tr>\n      <th>1</th>\n      <td>10903.0</td>\n      <td>1811768.38</td>\n      <td>9709</td>\n      <td>1822256.73</td>\n    </tr>\n    <tr>\n      <th>2</th>\n      <td>13449.0</td>\n      <td>2188884.72</td>\n      <td>23950</td>\n      <td>2202022.42</td>\n    </tr>\n    <tr>\n      <th>3</th>\n      <td>17005.0</td>\n      <td>2791207.83</td>\n      <td>45459</td>\n      <td>2807100.38</td>\n    </tr>\n    <tr>\n      <th>4</th>\n      <td>20558.0</td>\n      <td>3367671.02</td>\n      <td>73116</td>\n      <td>3390670.24</td>\n    </tr>\n    <tr>\n      <th>5</th>\n      <td>18667.0</td>\n      <td>3135125.13</td>\n      <td>82830</td>\n      <td>3152606.75</td>\n    </tr>\n    <tr>\n      <th>6</th>\n      <td>15253.0</td>\n      <td>2562025.61</td>\n      <td>81324</td>\n      <td>2577802.26</td>\n    </tr>\n    <tr>\n      <th>7</th>\n      <td>16072.0</td>\n      <td>2632539.56</td>\n      <td>100051</td>\n      <td>2647775.76</td>\n    </tr>\n    <tr>\n      <th>8</th>\n      <td>13448.0</td>\n      <td>2230345.42</td>\n      <td>95688</td>\n      <td>2244467.88</td>\n    </tr>\n    <tr>\n      <th>9</th>\n      <td>13109.0</td>\n      <td>2084992.09</td>\n      <td>104589</td>\n      <td>2097560.13</td>\n    </tr>\n    <tr>\n      <th>10</th>\n      <td>22703.0</td>\n      <td>3715554.83</td>\n      <td>202820</td>\n      <td>3736726.88</td>\n    </tr>\n    <tr>\n      <th>11</th>\n      <td>19798.0</td>\n      <td>3180600.68</td>\n      <td>193303</td>\n      <td>3199603.20</td>\n    </tr>\n    <tr>\n      <th>12</th>\n      <td>28114.0</td>\n      <td>4588415.41</td>\n      <td>299808</td>\n      <td>4613443.34</td>\n    </tr>\n  </tbody>\n</table>\n</div>"
     },
     "execution_count": 73,
     "metadata": {},
     "output_type": "execute_result"
    }
   ],
   "source": [
    "# Question 1: What was the best month for sales? How much was earned that month?\n",
    "all_data['Sales'] = all_data['Quantity Ordered'].astype('int') * all_data['Price Each'].astype('float')\n",
    "all_data.groupby(['Month']).sum()\n"
   ],
   "metadata": {
    "collapsed": false,
    "pycharm": {
     "name": "#%%\n"
    }
   }
  }
 ],
 "metadata": {
  "kernelspec": {
   "display_name": "Python 3 (ipykernel)",
   "language": "python",
   "name": "python3"
  },
  "language_info": {
   "codemirror_mode": {
    "name": "ipython",
    "version": 3
   },
   "file_extension": ".py",
   "mimetype": "text/x-python",
   "name": "python",
   "nbconvert_exporter": "python",
   "pygments_lexer": "ipython3",
   "version": "3.9.0"
  }
 },
 "nbformat": 4,
 "nbformat_minor": 1
}